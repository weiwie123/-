{
 "cells": [
  {
   "cell_type": "markdown",
   "metadata": {},
   "source": [
    "# 递归"
   ]
  },
  {
   "cell_type": "code",
   "execution_count": null,
   "metadata": {},
   "outputs": [],
   "source": [
    "# 递归\n",
    "# https://blog.csdn.net/liuergo/article/details/104345089\n",
    "# 1、明确递归函数的输入输出功能，将递归函数看作一个黑盒。\n",
    "# 2、明确递归结束的条件\n",
    "# 3、缩小递归范围，获得等价条件（要么获得递推式，要么寻找缩小递归范围的办法，使递归不断趋近递归结束条件）"
   ]
  },
  {
   "cell_type": "code",
   "execution_count": 3,
   "metadata": {},
   "outputs": [
    {
     "data": {
      "text/plain": [
       "24"
      ]
     },
     "execution_count": 3,
     "metadata": {},
     "output_type": "execute_result"
    }
   ],
   "source": [
    "# 例题1:计算阶乘\n",
    "def jiecheng(n):\n",
    "    if n <= 2:\n",
    "        return n\n",
    "    else:\n",
    "        return n * jiecheng(n-1)\n",
    "\n",
    "jiecheng(4)"
   ]
  },
  {
   "cell_type": "code",
   "execution_count": 9,
   "metadata": {},
   "outputs": [
    {
     "data": {
      "text/plain": [
       "24"
      ]
     },
     "execution_count": 9,
     "metadata": {},
     "output_type": "execute_result"
    }
   ],
   "source": [
    "def jiecheng_dp(n):\n",
    "    r = [1]\n",
    "    for i in range(1, n+1):\n",
    "        r.append(r[i-1]*i)\n",
    "    return r[n]\n",
    "\n",
    "jiecheng_dp(4)"
   ]
  },
  {
   "cell_type": "markdown",
   "metadata": {},
   "source": [
    "# 动态规划"
   ]
  },
  {
   "cell_type": "code",
   "execution_count": null,
   "metadata": {},
   "outputs": [],
   "source": [
    "# 普通的递归方式解决问题，会重复计算子问题，导致计算时间过长\n",
    "def febnacci(n):\n",
    "    if n == 1 or n == 2:\n",
    "        return 1\n",
    "    else:\n",
    "        return febnacci(n-1) + febnacci(n-2)\n",
    "\n",
    "# 动态规划就是解决：递归+重复子问题"
   ]
  },
  {
   "cell_type": "code",
   "execution_count": 1,
   "metadata": {},
   "outputs": [],
   "source": [
    "# 例题1:如何切割一个钢条，使其总收益最大（不同的长度有不同的价格，越长价格越高）\n",
    "\n",
    "# 最优子结构：问题的最优解由相关子问题的最优解组合而成，这些子问题可以独立求解。\n",
    "# 找出递推式！\n",
    "\n",
    "# 钢条切割问题，递推式可以简化为左边不切右边切。"
   ]
  },
  {
   "cell_type": "code",
   "execution_count": 4,
   "metadata": {},
   "outputs": [
    {
     "data": {
      "text/plain": [
       "25"
      ]
     },
     "execution_count": 4,
     "metadata": {},
     "output_type": "execute_result"
    }
   ],
   "source": [
    "# 解决方法1:自顶向下（rn，rn-1……）递归方法\n",
    "price = [0, 1,5,8,9,10,17,17,20,24,30]\n",
    "def cut_rod_recurision_1(p, n):\n",
    "    if n == 0:\n",
    "        return 0\n",
    "    else:\n",
    "        res = p[n]\n",
    "        for i in range(1, n):\n",
    "            res = max(res, cut_rod_recurision_1(p, i)+cut_rod_recurision_1(p, n-i))\n",
    "        return res\n",
    "\n",
    "def cut_rod_recurision_2(p, n):\n",
    "    if n == 0:\n",
    "        return 0\n",
    "    else:\n",
    "        res = 0\n",
    "        for i in range(1, n+1):\n",
    "            res = max(res, p[i]+cut_rod_recurision_2(p, n-i))\n",
    "        return res\n",
    "\n",
    "cut_rod_recurision_2(price, 9)"
   ]
  },
  {
   "cell_type": "code",
   "execution_count": 6,
   "metadata": {},
   "outputs": [
    {
     "data": {
      "text/plain": [
       "25"
      ]
     },
     "execution_count": 6,
     "metadata": {},
     "output_type": "execute_result"
    }
   ],
   "source": [
    "# 解决方法2:自底向上，动态规划方式解决（从r0开始计算并保存结果）\n",
    "def cut_rod_dp(p, n):\n",
    "    r = [0]\n",
    "    for i in range(1, n+1):\n",
    "        res = 0\n",
    "        for j in range(1, i+1):\n",
    "            res = max(res, p[j]+r[i-j]) #i-j一定是小于i的\n",
    "        r.append(res)\n",
    "    return r[n]\n",
    "\n",
    "cut_rod_dp(price, 9)"
   ]
  },
  {
   "cell_type": "code",
   "execution_count": 12,
   "metadata": {},
   "outputs": [
    {
     "data": {
      "text/plain": [
       "(25, [3, 6])"
      ]
     },
     "execution_count": 12,
     "metadata": {},
     "output_type": "execute_result"
    }
   ],
   "source": [
    "# 如何得到最优值，并且同时得到切割方案\n",
    "def cut_rod_extend(p, n):\n",
    "    r = [0]\n",
    "    s = [0]\n",
    "    for i in range(1, n+1):\n",
    "        res_r = 0\n",
    "        res_s = 0\n",
    "        for j in range(1, i+1):\n",
    "            if p[j]+r[i-j] > res_r:\n",
    "                res_r = p[j]+r[i-j]\n",
    "                res_s = j\n",
    "        r.append(res_r)\n",
    "        s.append(res_s)\n",
    "    return r[n], s\n",
    "\n",
    "def cut_rod_solution(p, n):\n",
    "    r, s = cut_rod_extend(p, n)\n",
    "    ans = []\n",
    "    while n > 0:\n",
    "        ans.append(s[n])\n",
    "        n -= s[n]\n",
    "    return r, ans\n",
    "\n",
    "cut_rod_solution(price, 9)"
   ]
  },
  {
   "cell_type": "code",
   "execution_count": null,
   "metadata": {},
   "outputs": [],
   "source": [
    "# 什么问题可以用动态规划\n",
    "# 1、最优子问题\n",
    "# 原问题的最优解中设计多少个子问题\n",
    "# 在确定最优解使用哪些子问题时，需要考虑多少选择\n",
    "# （贪心算法相当于动态规划的一个特例）\n",
    "# 2、 重叠子问题"
   ]
  },
  {
   "cell_type": "code",
   "execution_count": null,
   "metadata": {},
   "outputs": [],
   "source": [
    "# 最长公共子序列"
   ]
  }
 ],
 "metadata": {
  "kernelspec": {
   "display_name": "Python 3.6.13 ('mydoc')",
   "language": "python",
   "name": "python3"
  },
  "language_info": {
   "codemirror_mode": {
    "name": "ipython",
    "version": 3
   },
   "file_extension": ".py",
   "mimetype": "text/x-python",
   "name": "python",
   "nbconvert_exporter": "python",
   "pygments_lexer": "ipython3",
   "version": "3.6.13"
  },
  "orig_nbformat": 4,
  "vscode": {
   "interpreter": {
    "hash": "d3fad2e2418b8f564660e1b12c657452d79d30116530930195948f0a1996a751"
   }
  }
 },
 "nbformat": 4,
 "nbformat_minor": 2
}
