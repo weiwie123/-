{
 "cells": [
  {
   "cell_type": "markdown",
   "metadata": {},
   "source": [
    "# 二分查找"
   ]
  },
  {
   "cell_type": "markdown",
   "metadata": {},
   "source": [
    "二分查找有两个限制条件\n",
    "- 查找的数量只能是一个，不能是多个\n",
    "- 查找的对象在逻辑上必须是有序的\n",
    "- https://leetcode.cn/leetbook/read/binary-search/xenp13/"
   ]
  },
  {
   "cell_type": "code",
   "execution_count": 13,
   "metadata": {},
   "outputs": [
    {
     "data": {
      "text/plain": [
       "6"
      ]
     },
     "execution_count": 13,
     "metadata": {},
     "output_type": "execute_result"
    }
   ],
   "source": [
    "def binary_search(s, num):\n",
    "    \"\"\"\n",
    "    s是列表\n",
    "    num是要查找的数\n",
    "    \"\"\"\n",
    "    left = 0\n",
    "    right = len(s)-1\n",
    "    if right == 0:\n",
    "        return None\n",
    "    mid = (right-left)//2+left\n",
    "    while left <= right:\n",
    "        if s[mid] == num:\n",
    "            return mid\n",
    "        elif num < s[mid]:\n",
    "            right = mid - 1\n",
    "            mid = (right-left)//2+left\n",
    "        else:\n",
    "            left = mid + 1\n",
    "            mid = (right-left)//2+left\n",
    "    return -1\n",
    "\n",
    "def baoli(s, num):\n",
    "    for i in range(len(s)):\n",
    "        if s[i] == num:\n",
    "            return i\n",
    "    return -1\n",
    "\n",
    "lis = [4,5,6,6,9,9,10]\n",
    "# binary_search(lis, 67777)\n",
    "baoli(lis,10)"
   ]
  },
  {
   "cell_type": "code",
   "execution_count": 20,
   "metadata": {},
   "outputs": [
    {
     "data": {
      "text/plain": [
       "[1, 3]"
      ]
     },
     "execution_count": 20,
     "metadata": {},
     "output_type": "execute_result"
    }
   ],
   "source": [
    "# 寻找某个数的左右边界\n",
    "# https://leetcode.cn/problems/find-first-and-last-position-of-element-in-sorted-array/comments/\n",
    "\n",
    "\n",
    "def searchRange_1(nums, target):\n",
    "    # 暴力解法\n",
    "    start = -1\n",
    "    end = -1\n",
    "    if len(nums) == 0:\n",
    "        return [start, end]\n",
    "\n",
    "    for i in range(len(nums)):\n",
    "        if nums[i] == target and start == -1:\n",
    "            start = i\n",
    "            end = i\n",
    "        if nums[i] == target and end < i:\n",
    "            end = i\n",
    "    return [start, end]\n",
    "\n",
    "def searchRange_2(nums, target):\n",
    "    # 二分法解法:左边右边分开找\n",
    "    left_border = -1\n",
    "    right_border = -1\n",
    "    \n",
    "    l, r = 0, len(nums)-1\n",
    "    if r == -1:\n",
    "        return [-1,-1]\n",
    "    \n",
    "    # 找左边\n",
    "    while l <= r:\n",
    "        mid = l + (r - l) // 2\n",
    "        if target > nums[mid]:\n",
    "            l = mid + 1\n",
    "        elif target < nums[mid]:\n",
    "            r = mid - 1\n",
    "        else:\n",
    "            left_border = mid\n",
    "            r = mid - 1\n",
    "    \n",
    "    # 找右边\n",
    "    l, r = 0, len(nums)-1\n",
    "    while l <= r:\n",
    "        mid = l + (r - l) // 2\n",
    "        if target > nums[mid]:\n",
    "            l = mid + 1\n",
    "        elif target < nums[mid]:\n",
    "            r = mid - 1\n",
    "        else:\n",
    "            right_border = mid\n",
    "            l = mid + 1\n",
    "\n",
    "    return [left_border, right_border]\n",
    "\n",
    "\n",
    "searchRange_2([1,2,2,2,3], 2)"
   ]
  },
  {
   "cell_type": "code",
   "execution_count": null,
   "metadata": {},
   "outputs": [],
   "source": []
  },
  {
   "cell_type": "markdown",
   "metadata": {},
   "source": [
    "# 图的遍历\n",
    "\n",
    "什么是图\n",
    "- https://turingplanet.org/2020/04/02/图graph「算法和数据结构9」/#you_xiang_tu_de_shi_xian_Directed_Graph\n",
    "- 图Graph，顶点vertice，边edge\n",
    "- 表示方法：V = {a,b,c,d,e} E = {ab,ac,bd,cd,de}\n",
    "- 图的种类：无向图、有向图（相连的线有方向）、权重图（相连的线有各自的权重）。\n",
    "- 有向图的表示方法：1、二维矩阵M，M[i][j]=1表示i指向j。太稀疏了。2、链表（每个顶点有一个链表）\n",
    "\n",
    "DFS和BFS\n",
    "- https://www.bilibili.com/video/BV1Ks411579J?share_source=copy_pc\n",
    "- DFS：从根节点出发走到最深处，然后回溯再走到最深处……。\n",
    "- BFS：先访问离根节点最近的，再访问远的\n",
    "- DFS使用栈，BFS使用队列。"
   ]
  },
  {
   "cell_type": "markdown",
   "metadata": {},
   "source": [
    "## DFS和BFS的代码实现"
   ]
  },
  {
   "cell_type": "code",
   "execution_count": 27,
   "metadata": {},
   "outputs": [
    {
     "name": "stdout",
     "output_type": "stream",
     "text": [
      "A\n",
      "C\n",
      "E\n",
      "D\n",
      "F\n",
      "B\n"
     ]
    }
   ],
   "source": [
    "graph = {\n",
    "    \"A\": [\"B\", \"C\"],\n",
    "    \"B\": [\"A\", \"C\", \"D\"],\n",
    "    \"C\": [\"A\", \"B\", \"D\", \"E\"],\n",
    "    \"D\": [\"B\", \"C\", \"E\", \"F\"],\n",
    "    \"E\": [\"C\", \"D\"],\n",
    "    \"F\": [\"D\"],\n",
    "}\n",
    "\n",
    "graph.keys()  # 所有的节点的名称\n",
    "graph[\"E\"]  # 节点E相连的节点\n",
    "\n",
    "def BFS(graph, s): #s是任意的开始节点\n",
    "    queue = []\n",
    "    queue.append(s)\n",
    "    seen = []\n",
    "    seen.append(s)\n",
    "    while len(queue) > 0:\n",
    "        vertex = queue.pop(0)\n",
    "        nodes = graph[vertex]\n",
    "        for n in nodes:\n",
    "            if n not in seen:\n",
    "                queue.append(n)\n",
    "                seen.append(n)\n",
    "        print(vertex)\n",
    "\n",
    "def DFS(graph, s): #s是任意的开始节点\n",
    "    stack = []\n",
    "    stack.append(s)\n",
    "    seen = []\n",
    "    seen.append(s)\n",
    "    while len(stack) > 0:\n",
    "        vertex = stack.pop()\n",
    "        nodes = graph[vertex]\n",
    "        for n in nodes:\n",
    "            if n not in seen:\n",
    "                stack.append(n)\n",
    "                seen.append(n)\n",
    "        print(vertex)\n",
    "\n",
    "# BFS(graph, \"A\")\n",
    "DFS(graph, \"A\")"
   ]
  },
  {
   "cell_type": "code",
   "execution_count": 35,
   "metadata": {},
   "outputs": [
    {
     "name": "stdout",
     "output_type": "stream",
     "text": [
      "E\n",
      "C\n",
      "D\n",
      "A\n",
      "B\n",
      "F\n"
     ]
    },
    {
     "data": {
      "text/plain": [
       "['E', 'C', 'B']"
      ]
     },
     "execution_count": 35,
     "metadata": {},
     "output_type": "execute_result"
    }
   ],
   "source": [
    "# 最短路径\n",
    "\n",
    "graph = {\n",
    "    \"A\": [\"B\", \"C\"],\n",
    "    \"B\": [\"A\", \"C\", \"D\"],\n",
    "    \"C\": [\"A\", \"B\", \"D\", \"E\"],\n",
    "    \"D\": [\"B\", \"C\", \"E\", \"F\"],\n",
    "    \"E\": [\"C\", \"D\"],\n",
    "    \"F\": [\"D\"],\n",
    "}\n",
    "\n",
    "graph.keys()  # 所有的节点的名称\n",
    "graph[\"E\"]  # 节点E相连的节点\n",
    "\n",
    "def BFS(graph, s, e): #s是任意的开始节点\n",
    "    queue = []\n",
    "    queue.append(s)\n",
    "    seen = []\n",
    "    seen.append(s)\n",
    "    parent = {s: None}\n",
    "    while len(queue) > 0:\n",
    "        vertex = queue.pop(0)\n",
    "        nodes = graph[vertex]\n",
    "        for n in nodes:\n",
    "            if n not in seen:  #如果没有访问过\n",
    "                queue.append(n)\n",
    "                seen.append(n)\n",
    "                parent[n] = vertex  #展开的子节点的父节点一定是vertex\n",
    "        print(vertex)\n",
    "    v = e\n",
    "    res = []\n",
    "    while v != None:\n",
    "        res.append(v)\n",
    "        v = parent[v]\n",
    "    res = list(reversed(res))\n",
    "    return res\n",
    "\n",
    "\n",
    "def DFS(graph, s): #s是任意的开始节点\n",
    "    stack = []\n",
    "    stack.append(s)\n",
    "    seen = []\n",
    "    seen.append(s)\n",
    "    while len(stack) > 0:\n",
    "        vertex = stack.pop()\n",
    "        nodes = graph[vertex]\n",
    "        for n in nodes:\n",
    "            if n not in seen:\n",
    "                stack.append(n)\n",
    "                seen.append(n)\n",
    "        print(vertex)\n",
    "\n",
    "BFS(graph, \"E\", \"B\")\n",
    "# DFS(graph, \"A\")"
   ]
  },
  {
   "cell_type": "code",
   "execution_count": 10,
   "metadata": {},
   "outputs": [
    {
     "data": {
      "text/plain": [
       "({'A': None, 'B': 'C', 'C': 'A', 'D': 'B', 'E': 'D', 'F': 'D'},\n",
       " {'A': 0, 'B': 3, 'C': 1, 'D': 4, 'E': 7, 'F': 10})"
      ]
     },
     "execution_count": 10,
     "metadata": {},
     "output_type": "execute_result"
    }
   ],
   "source": [
    "# Dijkstra\n",
    "# https://www.bilibili.com/video/BV1ts41157Sy?share_source=copy_pc\n",
    "\n",
    "# Priority Queue\n",
    "# 先看以排好的节点的最后一个节点有哪些相邻节点，相邻节点排除已经在排好节点中的节点\n",
    "# 计算这些相邻节点距离最初节点的距离（最后一个节点的距离加上当前相邻节点的距离），然后插入到优先队列中\n",
    "# 插入完后，弹出优先队列中的最前一个节点，判断是否放入排好节点的末尾（如果已存在就扔掉），然后重复上面操作\n",
    "\n",
    "from cmath import inf\n",
    "import heapq\n",
    "\n",
    "\n",
    "graph = {\n",
    "    \"A\": {\"B\": 5, \"C\": 1},\n",
    "    \"B\": {\"A\": 5, \"C\": 2, \"D\": 1},\n",
    "    \"C\": {\"A\": 1, \"B\": 2, \"D\": 4, \"E\":8},\n",
    "    \"D\": {\"B\": 1, \"C\": 4, \"E\": 3, \"F\": 6},\n",
    "    \"E\": {\"C\": 8, \"D\": 3},\n",
    "    \"F\": {\"D\": 6}\n",
    "}\n",
    "\n",
    "def dijkstra(graph, s):\n",
    "    pqueue = []\n",
    "    heapq.heappush(pqueue, (0, s))\n",
    "    seen = set()\n",
    "    parent = {s: None}\n",
    "    distance = {s: 0}  #最优总距离\n",
    "    for k in graph.keys():\n",
    "        if k not in distance.keys():\n",
    "            distance[k] = inf\n",
    "    \n",
    "    while len(pqueue) > 0:\n",
    "        pair = heapq.heappop(pqueue)\n",
    "        dist = pair[0]  #实际总距离\n",
    "        vertex = pair[1]\n",
    "        seen.add(vertex)\n",
    "\n",
    "        nodes = graph[vertex]\n",
    "        for w in nodes.keys():\n",
    "            if w not in seen:\n",
    "                if graph[vertex][w]+dist < distance[w]:\n",
    "                    heapq.heappush(pqueue, (graph[vertex][w]+dist, w))\n",
    "                    parent[w] = vertex\n",
    "                    distance[w] = graph[vertex][w]+dist\n",
    "    \n",
    "    return parent, distance\n",
    "\n",
    "dijkstra(graph, \"A\")"
   ]
  },
  {
   "cell_type": "markdown",
   "metadata": {},
   "source": [
    "## DFS和BFS的相关例题\n",
    "\n"
   ]
  },
  {
   "cell_type": "code",
   "execution_count": null,
   "metadata": {},
   "outputs": [],
   "source": []
  }
 ],
 "metadata": {
  "kernelspec": {
   "display_name": "Python 3.6.13 ('mydoc')",
   "language": "python",
   "name": "python3"
  },
  "language_info": {
   "codemirror_mode": {
    "name": "ipython",
    "version": 3
   },
   "file_extension": ".py",
   "mimetype": "text/x-python",
   "name": "python",
   "nbconvert_exporter": "python",
   "pygments_lexer": "ipython3",
   "version": "3.6.13"
  },
  "orig_nbformat": 4,
  "vscode": {
   "interpreter": {
    "hash": "d3fad2e2418b8f564660e1b12c657452d79d30116530930195948f0a1996a751"
   }
  }
 },
 "nbformat": 4,
 "nbformat_minor": 2
}
