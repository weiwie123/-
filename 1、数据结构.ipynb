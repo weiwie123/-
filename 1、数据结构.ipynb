{
 "cells": [
  {
   "cell_type": "markdown",
   "metadata": {},
   "source": [
    "# 列表\n",
    "\n",
    "数据结构按照逻辑结构分为：线性结构（元素存在一对一的相互关系）、树结构（元素存在一对多的相互关系）、图结构（元素存在多对多的相互关系）\n",
    "物理结构（是怎样实现的）\n",
    "\n",
    "列表\n",
    "- 如何存储的：顺序存储（与数组的区别：数组元素类型要相同、数组长度固定）。python上有预先存储真实值，然后你建的变量和数据结构存的都是指向真实值的地址。\n",
    "- 列表的基本操作及相应的时间复杂度，除了插入和删除是O(n)，其他都是O(1)。"
   ]
  },
  {
   "cell_type": "markdown",
   "metadata": {},
   "source": [
    "# 栈\n",
    "\n",
    "- 是一种数据集合，可以理解为只能在一端进行插入或删除操作的列表。LOFO后进先出。\n",
    "- 基本操作：pop（出栈）、push（进栈）、gettop（取栈顶）"
   ]
  },
  {
   "cell_type": "markdown",
   "metadata": {},
   "source": [
    "# 队列"
   ]
  },
  {
   "cell_type": "markdown",
   "metadata": {},
   "source": [
    "一般队列\n",
    "- 仅仅允许在列表的一端（队尾）插入，另一端（队头）删除。FIFO先进先出。\n",
    "- 基本操作：pop(0)(O(n))或者用front指针指向0队头+1、使用环形队列节省存储空间、用rear指针指向队尾\n",
    "- 环形队列：当队尾指针front==Maxsize+1时，再前进一个位置就自动到0（Maxsize为队列长度）\n",
    "    - 队列内进元素，队首指针前进1:front==(front+1)%Maxsize\n",
    "    - 队列内出元素，队尾指针rear=(rear+1)%Maxsize\n",
    "    - 当队列为空时，rear == front\n",
    "    - 当队列满了时，(rear+1)%Maxsize==front"
   ]
  },
  {
   "cell_type": "code",
   "execution_count": 3,
   "metadata": {},
   "outputs": [
    {
     "data": {
      "text/plain": [
       "True"
      ]
     },
     "execution_count": 3,
     "metadata": {},
     "output_type": "execute_result"
    }
   ],
   "source": [
    "# 写一个底层队列\n",
    "\n",
    "class Queue:\n",
    "    def __init__(self, size=100) -> None:\n",
    "        self.queue = [0 for i in range(size)]\n",
    "        self.size = size\n",
    "        self.rear = 0\n",
    "        self.front = 0\n",
    "    \n",
    "    def push(self, element):\n",
    "        if not self.is_full():\n",
    "            self.rear = (self.rear + 1) % self.size\n",
    "            self.queue[self.rear] = element\n",
    "        else:\n",
    "            raise Exception(\"Queue is full.\")\n",
    "    \n",
    "    def pop(self, element):\n",
    "        if not self.is_empty():\n",
    "            self.front = (self.front + 1) % self.size\n",
    "            # self.queue[self.front] = 0  #不能删除，不然不能return了\n",
    "            return self.queue[self.front]\n",
    "        else:\n",
    "            raise Exception(\"Queue is empty.\")\n",
    "\n",
    "    def is_empty(self):\n",
    "        return self.front == self.rear\n",
    "\n",
    "    def is_full(self):\n",
    "        return (self.rear + 1) % self.size == self.front\n",
    "\n",
    "q = Queue(6)\n",
    "for i in range(5):\n",
    "    q.push(i)\n",
    "q.is_full()"
   ]
  },
  {
   "cell_type": "markdown",
   "metadata": {},
   "source": [
    "##  双向队列\n",
    "\n",
    "- 双向队列两端都支持进队和出队操作\n",
    "- 基本操作：队首进队、队首出队、队尾进队、队尾出队。"
   ]
  },
  {
   "cell_type": "markdown",
   "metadata": {},
   "source": [
    "## python中的队列"
   ]
  },
  {
   "cell_type": "code",
   "execution_count": 5,
   "metadata": {},
   "outputs": [
    {
     "data": {
      "text/plain": [
       "1"
      ]
     },
     "execution_count": 5,
     "metadata": {},
     "output_type": "execute_result"
    }
   ],
   "source": [
    "# python中有包可以直接用\n",
    "\n",
    "from collections import deque\n",
    "q = deque([1,2,3], 5)  # 1.初始化队列。2.队列长度，队满了时队首自动出队。\n",
    "# 一般队列\n",
    "q.append(1)  # 队尾进队\n",
    "q.popleft()  # 队首出队\n",
    "\n",
    "# 双向队列\n",
    "q.appendleft(1) # 队首进队\n",
    "q.pop()  # 队尾出队\n",
    "\n",
    "\n",
    "# 应用1:打印文件的后n行（例如打印后5行）\n",
    "def tail(text, n):\n",
    "    with open(text, \"r\") as f:\n",
    "        q = deque(f, n)\n",
    "        return q"
   ]
  },
  {
   "cell_type": "markdown",
   "metadata": {},
   "source": [
    "# 链表\n",
    "\n"
   ]
  },
  {
   "cell_type": "markdown",
   "metadata": {},
   "source": [
    "# 哈希表"
   ]
  },
  {
   "cell_type": "markdown",
   "metadata": {},
   "source": [
    "# 树、二叉树、AVL树"
   ]
  },
  {
   "cell_type": "markdown",
   "metadata": {},
   "source": []
  }
 ],
 "metadata": {
  "kernelspec": {
   "display_name": "Python 3.8.9 64-bit",
   "language": "python",
   "name": "python3"
  },
  "language_info": {
   "codemirror_mode": {
    "name": "ipython",
    "version": 3
   },
   "file_extension": ".py",
   "mimetype": "text/x-python",
   "name": "python",
   "nbconvert_exporter": "python",
   "pygments_lexer": "ipython3",
   "version": "3.8.9"
  },
  "orig_nbformat": 4,
  "vscode": {
   "interpreter": {
    "hash": "31f2aee4e71d21fbe5cf8b01ff0e069b9275f58929596ceb00d14d90e3e16cd6"
   }
  }
 },
 "nbformat": 4,
 "nbformat_minor": 2
}
