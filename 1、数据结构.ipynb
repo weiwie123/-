{
 "cells": [
  {
   "cell_type": "markdown",
   "metadata": {},
   "source": [
    "算法可视化网站，辅助理解：\n",
    "- https://visualgo.net/zh\n",
    "- https://www.cs.usfca.edu/~galles/visualization/Algorithms.html\n"
   ]
  },
  {
   "cell_type": "markdown",
   "metadata": {},
   "source": [
    "# 列表\n",
    "\n",
    "数据结构按照逻辑结构分为：线性结构（元素存在一对一的相互关系）、树结构（元素存在一对多的相互关系）、图结构（元素存在多对多的相互关系）\n",
    "物理结构（是怎样实现的）\n",
    "\n",
    "列表\n",
    "- 如何存储的：顺序存储（与数组的区别：数组元素类型要相同、数组长度固定）。python上有预先存储真实值，然后你建的变量和数据结构存的都是指向真实值的地址。\n",
    "- 列表的基本操作及相应的时间复杂度，除了插入和删除是O(n)，其他都是O(1)。"
   ]
  },
  {
   "cell_type": "markdown",
   "metadata": {},
   "source": [
    "# 栈\n",
    "\n",
    "- 是一种数据集合，可以理解为只能在一端进行插入或删除操作的列表。LOFO后进先出。\n",
    "- 基本操作：pop（出栈）、push（进栈）、gettop（取栈顶）"
   ]
  },
  {
   "cell_type": "markdown",
   "metadata": {},
   "source": [
    "# 队列"
   ]
  },
  {
   "cell_type": "markdown",
   "metadata": {},
   "source": [
    "一般队列\n",
    "- 仅仅允许在列表的一端（队尾）插入，另一端（队头）删除。FIFO先进先出。\n",
    "- 基本操作：pop(0)(O(n))或者用front指针指向0队头+1、使用环形队列节省存储空间、用rear指针指向队尾\n",
    "- 环形队列：当队尾指针front==Maxsize+1时，再前进一个位置就自动到0（Maxsize为队列长度）\n",
    "    - 队列内进元素，队首指针前进1:front==(front+1)%Maxsize\n",
    "    - 队列内出元素，队尾指针rear=(rear+1)%Maxsize\n",
    "    - 当队列为空时，rear == front\n",
    "    - 当队列满了时，(rear+1)%Maxsize==front"
   ]
  },
  {
   "cell_type": "code",
   "execution_count": 3,
   "metadata": {},
   "outputs": [
    {
     "data": {
      "text/plain": [
       "True"
      ]
     },
     "execution_count": 3,
     "metadata": {},
     "output_type": "execute_result"
    }
   ],
   "source": [
    "# 写一个底层队列\n",
    "\n",
    "class Queue:\n",
    "    def __init__(self, size=100) -> None:\n",
    "        self.queue = [0 for i in range(size)]\n",
    "        self.size = size\n",
    "        self.rear = 0\n",
    "        self.front = 0\n",
    "    \n",
    "    def push(self, element):\n",
    "        if not self.is_full():\n",
    "            self.rear = (self.rear + 1) % self.size\n",
    "            self.queue[self.rear] = element\n",
    "        else:\n",
    "            raise Exception(\"Queue is full.\")\n",
    "    \n",
    "    def pop(self, element):\n",
    "        if not self.is_empty():\n",
    "            self.front = (self.front + 1) % self.size\n",
    "            # self.queue[self.front] = 0  #不能删除，不然不能return了\n",
    "            return self.queue[self.front]\n",
    "        else:\n",
    "            raise Exception(\"Queue is empty.\")\n",
    "\n",
    "    def is_empty(self):\n",
    "        return self.front == self.rear\n",
    "\n",
    "    def is_full(self):\n",
    "        return (self.rear + 1) % self.size == self.front\n",
    "\n",
    "q = Queue(6)\n",
    "for i in range(5):\n",
    "    q.push(i)\n",
    "q.is_full()"
   ]
  },
  {
   "cell_type": "markdown",
   "metadata": {},
   "source": [
    "##  双向队列\n",
    "\n",
    "- 双向队列两端都支持进队和出队操作\n",
    "- 基本操作：队首进队、队首出队、队尾进队、队尾出队。"
   ]
  },
  {
   "cell_type": "markdown",
   "metadata": {},
   "source": [
    "## python中的队列"
   ]
  },
  {
   "cell_type": "code",
   "execution_count": 5,
   "metadata": {},
   "outputs": [
    {
     "data": {
      "text/plain": [
       "1"
      ]
     },
     "execution_count": 5,
     "metadata": {},
     "output_type": "execute_result"
    }
   ],
   "source": [
    "# python中有包可以直接用\n",
    "\n",
    "from collections import deque\n",
    "q = deque([1,2,3], 5)  # 1.初始化队列。2.队列长度，队满了时队首自动出队。\n",
    "# 一般队列\n",
    "q.append(1)  # 队尾进队\n",
    "q.popleft()  # 队首出队\n",
    "\n",
    "# 双向队列\n",
    "q.appendleft(1) # 队首进队\n",
    "q.pop()  # 队尾出队\n",
    "\n",
    "\n",
    "# 应用1:打印文件的后n行（例如打印后5行）\n",
    "def tail(text, n):\n",
    "    with open(text, \"r\") as f:\n",
    "        q = deque(f, n)\n",
    "        return q"
   ]
  },
  {
   "cell_type": "markdown",
   "metadata": {},
   "source": [
    "# 链表\n",
    "\n",
    "- 一系列节点组成的元素集合，每个节点包含两个部分：数据域item和指向下一节点的指针next。\n",
    "- 链表的插入和删除操作比普通列表（O(n)）快。插入（注意：要先连尾后连头）、删除（直接连接就行）"
   ]
  },
  {
   "cell_type": "code",
   "execution_count": 2,
   "metadata": {},
   "outputs": [
    {
     "data": {
      "text/plain": [
       "3"
      ]
     },
     "execution_count": 2,
     "metadata": {},
     "output_type": "execute_result"
    }
   ],
   "source": [
    "# 自己写一个链表\n",
    "class Node:\n",
    "    def __init__(self, item) -> None:\n",
    "        self.item = item\n",
    "        self.next = None\n",
    "    \n",
    "a = Node(1)\n",
    "b = Node(2)\n",
    "c = Node(3)\n",
    "a.next = b\n",
    "b.next = c\n",
    "a.next.next.item"
   ]
  },
  {
   "cell_type": "code",
   "execution_count": 15,
   "metadata": {},
   "outputs": [
    {
     "name": "stdout",
     "output_type": "stream",
     "text": [
      "1,2,3,4,5,"
     ]
    }
   ],
   "source": [
    "# 1、创建链表\n",
    "# 头插法和尾插法（添加节点的方向不同，前者弄完后是逆序的，后者弄完后是顺序的）\n",
    "class Node:\n",
    "    def __init__(self, item) -> None:\n",
    "        self.item = item\n",
    "        self.next = None\n",
    "\n",
    "def create_linklist_head(li):\n",
    "    # 头插法\n",
    "    head = Node(li[0])\n",
    "    for element in li[1:]:\n",
    "        node = Node(element)\n",
    "        node.next = head\n",
    "        head = node\n",
    "    return head\n",
    "\n",
    "def create_linklist_tail(li):\n",
    "    # 尾插法\n",
    "    head = Node(li[0])\n",
    "    tail = head\n",
    "    for element in li[1:]:\n",
    "        node = Node(element)\n",
    "        tail.next = node\n",
    "        tail = node\n",
    "    return head\n",
    "\n",
    "def print_linklist(lk):\n",
    "    # 从头head遍历链表\n",
    "    while lk:\n",
    "        print(lk.item, end=\",\")\n",
    "        lk = lk.next\n",
    "\n",
    "lk = create_linklist_tail([1,2,3,4,5])\n",
    "print_linklist(lk)"
   ]
  },
  {
   "cell_type": "markdown",
   "metadata": {},
   "source": [
    "## 双链表\n",
    "\n",
    "- 每个节点有2个指针：一个指向后一个节点，一个指向前一个节点。\n",
    "- 插入和删除要复杂一些"
   ]
  },
  {
   "cell_type": "code",
   "execution_count": null,
   "metadata": {},
   "outputs": [],
   "source": [
    "# 建立一个双链表\n",
    "\n",
    "class Node:\n",
    "    def __init__(self, item) -> None:\n",
    "        self.item = item\n",
    "        self.next = None\n",
    "        self.prior = None"
   ]
  },
  {
   "cell_type": "markdown",
   "metadata": {},
   "source": [
    "## 链表总结\n",
    "\n",
    "顺序表（列表/数组）与链表\n",
    "- 链表的插入和删除比顺序表要快\n",
    "- 链表的内存可以更灵活分配（可以用链表来重新实现栈和队列）\n",
    "- 链表这种链式存储的数据结构对【树和图】的结构有很大的启发性"
   ]
  },
  {
   "cell_type": "markdown",
   "metadata": {},
   "source": [
    "# 哈希表（散列表）\n",
    "\n",
    "- python的字典和集合都是哈希表存储的\n",
    "- 支持操作：insert、get、delete。\n",
    "\n",
    "- 直接寻址表：优点-关键字的全域U比较小时很好用，时间复杂度O(1)。缺点：U很大时会消耗很大内存、实际的key很少时会浪费大量内存、无法处理关键字不是数字的情况。说白了就是用空间换时间！\n",
    "- 直接寻址表+哈希就是哈希表。构建大小为m的寻址表T，key为k的元素放到h(k)的位置上，h(k)是一个函数，其将域U映射到表T[0,1,……,m-1]\n",
    "\n",
    "- 哈希表hash table，是一种线性表的存储结构，它由一个直接寻址表和一个哈希函数组成。哈希函数h(k)将元素关键字k作为自变量，返回元素的存储下标。\n",
    "- 哈希冲突（有可能某几个元素经过哈希函数计算下标后相同，即不同元素映射到同一位置）\n",
    "    - 解决方法1:开放寻址法。如果哈希函数返回的位置已经有值，则可以向后探查新的位置来存储这个值（线性探查+1，二次探查+1^2，二度哈希-当第一个哈希函数计算的位置下标产生冲突那就使用另外一种哈希函数）。这种方法不太好。\n",
    "    - 解决方法2:拉链法。哈希表的每个位置都连接一个链表，当冲突发生时，冲突的元素将被加到该位置链表的最后。\n",
    "- 常见的哈希函数，详细见截图。"
   ]
  },
  {
   "cell_type": "markdown",
   "metadata": {},
   "source": [
    "## 哈希表的实现"
   ]
  },
  {
   "cell_type": "code",
   "execution_count": 25,
   "metadata": {},
   "outputs": [
    {
     "name": "stdout",
     "output_type": "stream",
     "text": [
      "Duplicated Insert.\n",
      "[<<0>>, <<1,102>>, <<>>, <<3>>, <<>>, <<>>, <<>>, <<>>, <<>>, <<>>, <<>>, <<>>, <<>>, <<>>, <<>>, <<>>, <<>>, <<>>, <<>>, <<>>, <<>>, <<>>, <<>>, <<>>, <<>>, <<>>, <<>>, <<>>, <<>>, <<>>, <<>>, <<>>, <<>>, <<>>, <<>>, <<>>, <<>>, <<>>, <<>>, <<>>, <<>>, <<>>, <<>>, <<>>, <<>>, <<>>, <<>>, <<>>, <<>>, <<>>, <<>>, <<>>, <<>>, <<>>, <<>>, <<>>, <<>>, <<>>, <<>>, <<>>, <<>>, <<>>, <<>>, <<>>, <<>>, <<>>, <<>>, <<>>, <<>>, <<>>, <<>>, <<>>, <<>>, <<>>, <<>>, <<>>, <<>>, <<>>, <<>>, <<>>, <<>>, <<>>, <<>>, <<>>, <<>>, <<>>, <<>>, <<>>, <<>>, <<>>, <<>>, <<>>, <<>>, <<>>, <<>>, <<>>, <<>>, <<>>, <<>>, <<>>, <<>>]\n"
     ]
    },
    {
     "data": {
      "text/plain": [
       "True"
      ]
     },
     "execution_count": 25,
     "metadata": {},
     "output_type": "execute_result"
    }
   ],
   "source": [
    "# 自己实现哈希表\n",
    "\n",
    "# 先写一个类，可以创建一个可以迭代的链表\n",
    "class LinkList:\n",
    "    class Node:\n",
    "        def __init__(self, item):\n",
    "            self.item = item\n",
    "            self.next = None\n",
    "    \n",
    "    class LinkListIterator:\n",
    "        def __init__(self, node):\n",
    "            self.node = node\n",
    "        \n",
    "        def __next__(self):\n",
    "            if self.node:\n",
    "                cur_node = self.node\n",
    "                self.node = cur_node.next\n",
    "                return cur_node.item\n",
    "            else:\n",
    "                raise StopIteration\n",
    "        \n",
    "        def __iter__(self):\n",
    "            return self\n",
    "    \n",
    "    def __init__(self, iterable=None):\n",
    "        # iterable表示允许传一个列表进来\n",
    "        self.head = None\n",
    "        self.tail = None\n",
    "        if iterable:\n",
    "            self.extend(iterable)\n",
    "    \n",
    "    # 下面的append和extend是模仿python列表写的\n",
    "    def append(self, obj):\n",
    "        s = LinkList.Node(obj) #先把传入的这个数据创建成一个节点\n",
    "        if not self.head: #如果head是空的，那么加入的这个节点就是头节点和尾节点\n",
    "            self.head = s\n",
    "            self.tail = s\n",
    "        else:  #如果不是空的，就用尾插法插入到后边\n",
    "            self.tail.next = s\n",
    "            self.tail = s\n",
    "    \n",
    "    def extend(self, iterable):\n",
    "        for obj in iterable:\n",
    "            self.append(obj)\n",
    "    \n",
    "    def find(self, obj):\n",
    "        for n in self:\n",
    "            if n == obj:\n",
    "                return True\n",
    "        else:\n",
    "            return False\n",
    "    \n",
    "    def __iter__(self):\n",
    "        #让这个链表支持for循环，写了一个迭代器类\n",
    "        return self.LinkListIterator(self.head)\n",
    "    \n",
    "    def __repr__(self):\n",
    "        #打印时转换成字符串\n",
    "        return \"<<\"+\",\".join(map(str, self))+\">>\"\n",
    "\n",
    "\n",
    "# lk = LinkList([1,2,3,4,5])\n",
    "# for element in lk:\n",
    "#     print(element)\n",
    "# print(lk)\n",
    "\n",
    "class HashTable:\n",
    "    def __init__(self, size=101):\n",
    "        self.size = size\n",
    "        self.T = [LinkList() for i in range(self.size)]\n",
    "\n",
    "    def h(self, k):\n",
    "        #哈希函数\n",
    "        return k % self.size\n",
    "    \n",
    "    def insert(self, k):\n",
    "        i = self.h(k)\n",
    "        if self.find(k):\n",
    "            print(\"Duplicated Insert.\")\n",
    "        else:\n",
    "            self.T[i].append(k)\n",
    "    \n",
    "    def find(self, k):\n",
    "        i = self.h(k)\n",
    "        return self.T[i].find(k)\n",
    "\n",
    "ht = HashTable()\n",
    "ht.insert(0)\n",
    "ht.insert(1)\n",
    "ht.insert(3)\n",
    "ht.insert(102)\n",
    "ht.insert(0)\n",
    "print(ht.T)\n",
    "ht.find(3)"
   ]
  },
  {
   "cell_type": "markdown",
   "metadata": {},
   "source": [
    "## 哈希表的应用\n",
    "\n",
    "- 集合和字典。它们都是通过哈希表来实现的。\n",
    "- 如果要存字符串，就先将字符串转化为整数，再用哈希表的方式来存。\n",
    "\n",
    "- 应用之一：md5算法\n",
    "- MD5，Message-Digest Algorithm 5。曾经是密码学中常用的哈希函数，可以把任意长度的数据映射为128位的哈希值，其曾经包含如下特征：\n",
    "    - 1.同样的消息，其MD5值必定相同\n",
    "    - 2.可以快速计算出任意给定消息的MD5值\n",
    "    - 3.除非暴力的枚举所有可能的消息，否则不可能从哈希值反推出消息本身\n",
    "    - 4.两条消息之间即使只有微小的差别，其对应的MD5值也应该是完全不同、完全不相关的\n",
    "    - 5.不能在有意义的时间内人工的构造两个不同的消息，使其具有相同的MD5值。\n",
    "- 应用举例：文件的哈希值。（如果两文件哈希值相同则两文件是相同的——用户可以利用这个验证下载的文件是否完整、云存储服务商可以利用它来判断用户要上传的文件是否已经存在于服务器上，从而实现秒传的功能，同时避免存储过多相同的文件副本）\n",
    "\n",
    "- 应用之二：SHA2算法\n",
    "- SHA2在安全性较重要的场合推荐使用，拥有一系列的哈希函数，可生成不同长度的位数值。\n",
    "- 比特币系统：给定字符串U和目标哈希值H，需要计算出一个字符串V，使得U+V的哈希值与H的差小于一个给定值D。只能通过暴力枚举V来进行猜测，猜出结果的人可以获得一定的奖金。"
   ]
  },
  {
   "cell_type": "markdown",
   "metadata": {},
   "source": [
    "# 树、二叉树、AVL树"
   ]
  }
 ],
 "metadata": {
  "kernelspec": {
   "display_name": "Python 3.8.9 64-bit",
   "language": "python",
   "name": "python3"
  },
  "language_info": {
   "codemirror_mode": {
    "name": "ipython",
    "version": 3
   },
   "file_extension": ".py",
   "mimetype": "text/x-python",
   "name": "python",
   "nbconvert_exporter": "python",
   "pygments_lexer": "ipython3",
   "version": "3.8.9"
  },
  "orig_nbformat": 4,
  "vscode": {
   "interpreter": {
    "hash": "31f2aee4e71d21fbe5cf8b01ff0e069b9275f58929596ceb00d14d90e3e16cd6"
   }
  }
 },
 "nbformat": 4,
 "nbformat_minor": 2
}
