{
 "cells": [
  {
   "cell_type": "code",
   "execution_count": 1,
   "metadata": {},
   "outputs": [],
   "source": [
    "# https://blog.csdn.net/TFATS/article/details/108075367"
   ]
  },
  {
   "cell_type": "code",
   "execution_count": 16,
   "metadata": {},
   "outputs": [
    {
     "data": {
      "text/plain": [
       "[2, 3, 4, 5, 5, 5, 9]"
      ]
     },
     "execution_count": 16,
     "metadata": {},
     "output_type": "execute_result"
    }
   ],
   "source": [
    "def bubble_sort(lis):\n",
    "    \"\"\"冒泡排序\"\"\"\n",
    "    n = len(lis)\n",
    "    for i in range(n-1, 0, -1):\n",
    "        for j in range(i):\n",
    "            if lis[j] > lis[j+1]:\n",
    "                lis[j+1], lis[j] = lis[j], lis[j+1]\n",
    "\n",
    "lis = [9,3,2,4,5,5,5]\n",
    "bubble_sort(lis)\n",
    "lis"
   ]
  },
  {
   "cell_type": "code",
   "execution_count": 27,
   "metadata": {},
   "outputs": [
    {
     "data": {
      "text/plain": [
       "[2, 3, 4, 5, 5, 5, 9]"
      ]
     },
     "execution_count": 27,
     "metadata": {},
     "output_type": "execute_result"
    }
   ],
   "source": [
    "def select_sort(lis):\n",
    "    \"\"\"选择排序\"\"\"\n",
    "    n = len(lis)\n",
    "    for i in range(n):\n",
    "        min_index = i\n",
    "        for j in range(i+1, n):\n",
    "            if lis[j] < lis[min_index]:\n",
    "                min_index = j\n",
    "        if min_index != i:\n",
    "            lis[i], lis[min_index] = lis[min_index], lis[i]\n",
    "\n",
    "lis = [9,3,2,4,5,5,5]\n",
    "select_sort(lis)\n",
    "lis"
   ]
  },
  {
   "cell_type": "code",
   "execution_count": 32,
   "metadata": {},
   "outputs": [
    {
     "data": {
      "text/plain": [
       "[2, 3, 4, 5, 5, 5, 9]"
      ]
     },
     "execution_count": 32,
     "metadata": {},
     "output_type": "execute_result"
    }
   ],
   "source": [
    "def insert_sort(lis):\n",
    "    \"\"\"插入排序\"\"\"\n",
    "    n = len(lis)\n",
    "    for i in range(n):\n",
    "        for j in range(i, 0, -1):\n",
    "            if lis[j] < lis[j-1]:\n",
    "                lis[j], lis[j-1] = lis[j-1], lis[j]\n",
    "            else:\n",
    "                break\n",
    "\n",
    "lis = [9,3,2,4,5,5,5]\n",
    "insert_sort(lis)\n",
    "lis"
   ]
  },
  {
   "cell_type": "code",
   "execution_count": 50,
   "metadata": {},
   "outputs": [
    {
     "data": {
      "text/plain": [
       "[2, 3, 4, 5, 5, 5, 9]"
      ]
     },
     "execution_count": 50,
     "metadata": {},
     "output_type": "execute_result"
    }
   ],
   "source": [
    "def shell_sort(lis):\n",
    "    \"\"\"希尔排序\"\"\"\n",
    "    n = len(lis)\n",
    "    gap = n // 2\n",
    "    while gap >= 1:\n",
    "        for i in range(gap, n):\n",
    "            for j in range(0, i, gap):\n",
    "                if lis[j] > lis[i]:\n",
    "                    lis[i], lis[j] = lis[j], lis[i]\n",
    "        gap = gap // 2\n",
    "\n",
    "lis = [9,3,2,4,5,5,5]\n",
    "shell_sort(lis)\n",
    "lis"
   ]
  },
  {
   "cell_type": "code",
   "execution_count": 57,
   "metadata": {},
   "outputs": [
    {
     "data": {
      "text/plain": [
       "[2, 3, 4, 5, 5, 5, 9]"
      ]
     },
     "execution_count": 57,
     "metadata": {},
     "output_type": "execute_result"
    }
   ],
   "source": [
    "def quick_sort(lis, start, end):\n",
    "    if start < end:\n",
    "        left = start\n",
    "        right = end\n",
    "        mid = lis[start]\n",
    "        while left < right:\n",
    "            while left < right and lis[right] >= mid:\n",
    "                right -= 1\n",
    "            lis[left] = lis[right]\n",
    "            while left < right and lis[left] < mid:\n",
    "                left += 1\n",
    "            lis[right] = lis[left]\n",
    "        lis[left] = mid\n",
    "        quick_sort(lis, start, left-1)\n",
    "        quick_sort(lis, left+1, end)\n",
    "\n",
    "lis = [9,3,2,4,5,5,5]\n",
    "quick_sort(lis, 0, len(lis)-1)\n",
    "lis"
   ]
  },
  {
   "cell_type": "code",
   "execution_count": 65,
   "metadata": {},
   "outputs": [
    {
     "data": {
      "text/plain": [
       "[2, 3, 4, 5, 5, 5, 9]"
      ]
     },
     "execution_count": 65,
     "metadata": {},
     "output_type": "execute_result"
    }
   ],
   "source": [
    "def fenzu(lis):\n",
    "    n = len(lis)\n",
    "    if n <= 1:\n",
    "        return lis\n",
    "    mid = n // 2\n",
    "    lis1 = fenzu(lis[:mid])\n",
    "    lis2 = fenzu(lis[mid:])\n",
    "    return merge(lis1, lis2)\n",
    "\n",
    "def merge(lis1, lis2):\n",
    "    new_lis = []\n",
    "    l, r = 0, 0\n",
    "    n1 = len(lis1)\n",
    "    n2 = len(lis2)\n",
    "    while l < n1 and r < n2:\n",
    "        if lis1[l] < lis2[r]:\n",
    "            new_lis.append(lis1[l])\n",
    "            l += 1\n",
    "        else:\n",
    "            new_lis.append(lis2[r])\n",
    "            r += 1\n",
    "    new_lis.extend(lis1[l:])\n",
    "    new_lis.extend(lis2[r:])\n",
    "    return new_lis\n",
    "\n",
    "lis = [9,3,2,4,5,5,5]\n",
    "lis = fenzu(lis)\n",
    "lis"
   ]
  },
  {
   "cell_type": "code",
   "execution_count": 81,
   "metadata": {},
   "outputs": [
    {
     "data": {
      "text/plain": [
       "[2, 3, 5, 4, 5, 5, 9]"
      ]
     },
     "execution_count": 81,
     "metadata": {},
     "output_type": "execute_result"
    }
   ],
   "source": [
    "# 堆排序：先构建个堆，堆调整完成，调换顶与尾，然后再堆调整……堆排序完美应用了特殊的完全二叉树的性质，使用了列表进行顺序存储。\n",
    "\n",
    "# 堆的调整\n",
    "def sift(data, low, high):\n",
    "    \"\"\"\n",
    "    low是堆顶下标, high是堆末尾下标\n",
    "    \"\"\"\n",
    "    i = low # 堆顶节点的下标 i\n",
    "    j = 2 * i + 1 # 上移节点标号 j，临时指向左侧子节点标号\n",
    "    tmp = data[i] # 把堆顶节点移动到临时队列，\n",
    "    while j <= high: # 左侧子节点小于堆的最大范围值\n",
    "        if j + 1 <= high and data[j] < data[j+1]: # 右侧节点元素如果大于左侧节点元素\n",
    "            j += 1 # 上移节点标号 j 指向右侧节点\n",
    "        if data[j] > tmp: # 如果上移节点标号的元素大于移除的堆顶元素\n",
    "            data[i] = data[j] # 把上移节点元素移动到堆顶位置\n",
    "            i = j # 调整空位置节点标号 i 指向最新的空位置节点标号\n",
    "            j = 2 * i +1 # 上移节点标号 j，临时指向空位置节点的左侧子节点标号\n",
    "        else: # 如果子节点标号不在队列中，就退出操作\n",
    "            data[i] = tmp\n",
    "            break\n",
    "    data[i] = tmp\n",
    "\n",
    "# 构建堆\n",
    "def heap_sort(data):\n",
    "    n = len(data) # 获取队列的长度\n",
    "    # 构建初始堆结构（构建堆要从底层父节点一点点向下调整构建起来，像堆土堆一样）\n",
    "    for i in range(((n-2)//2), -1, -1): # 调整的节点范围，从最后一个节点的父节点开始，倒序到 0\n",
    "        sift(data, i, n-1) # 调整当前结点堆序列（high直接用n-1就行，因为只要不超过high就可以）\n",
    "    #堆顶元素排序\n",
    "    for i in range(n-1, -1, -1): # 遍历队列最小元素\n",
    "        data[0], data[i] = data[i], data[0] # 堆顶元素和堆最小元素进行替换\n",
    "        sift(data, 0, i-1) # 调整新队列\n",
    "    # 返回排序后的队列\n",
    "\n",
    "lis = [9,3,2,4,5,5,5]\n",
    "heap_sort(lis)\n",
    "lis\n",
    "\n",
    "# 内置模块\n",
    "import heapq\n",
    "lis = [9,3,2,4,5,5,5]\n",
    "heapq.heapify(lis)\n",
    "lis"
   ]
  },
  {
   "cell_type": "code",
   "execution_count": 96,
   "metadata": {},
   "outputs": [
    {
     "data": {
      "text/plain": [
       "[999, 998, 997, 996, 995, 994, 993, 992, 991, 990]"
      ]
     },
     "execution_count": 96,
     "metadata": {},
     "output_type": "execute_result"
    }
   ],
   "source": [
    "# topK问题：有n个数，设计算法得到前K大的数（K<n）\n",
    "# 思路：1、排序后切片 nlog(n)。2、冒泡插入或选择 Kn。3、堆排序 nlog(K)。\n",
    "\n",
    "# 堆排序思路：取列表前K个元素建立一个小跟堆，堆顶就是目前第K大的树。\n",
    "# 然后依次向后遍历原列表，列表中元素如果小于堆顶，则忽略该元素。\n",
    "# 如果大于堆顶，则将堆顶更换为该元素，并对堆进行一次调整。\n",
    "# 遍历列表所有元素后，倒序弹出堆顶。\n",
    "\n",
    "# 堆的调整（跟上面的一毛一样）\n",
    "def sift(data, low, high):\n",
    "    \"\"\"\n",
    "    low是堆顶下标, high是堆末尾下标\n",
    "    \"\"\"\n",
    "    i = low # 堆顶节点的下标 i\n",
    "    j = 2 * i + 1 # 上移节点标号 j，临时指向左侧子节点标号\n",
    "    tmp = data[i] # 把堆顶节点移动到临时队列，\n",
    "    while j <= high: # 左侧子节点小于堆的最大范围值\n",
    "        if j + 1 <= high and data[j] > data[j+1]: # 右侧节点元素如果大于左侧节点元素\n",
    "            j += 1 # 上移节点标号 j 指向右侧节点\n",
    "        if data[j] < tmp: # 如果上移节点标号的元素大于移除的堆顶元素\n",
    "            data[i] = data[j] # 把上移节点元素移动到堆顶位置\n",
    "            i = j # 调整空位置节点标号 i 指向最新的空位置节点标号\n",
    "            j = 2 * i +1 # 上移节点标号 j，临时指向空位置节点的左侧子节点标号\n",
    "        else: # 如果子节点标号不在队列中，就退出操作\n",
    "            data[i] = tmp\n",
    "            break\n",
    "    data[i] = tmp\n",
    "\n",
    "def topk(lis, k):\n",
    "    heap = lis[:k]\n",
    "    for i in range(((k-2)//2), -1, -1):\n",
    "        sift(heap, i, k-1)\n",
    "    for i in range(k, len(lis)-1):\n",
    "        if lis[i] > heap[0]:\n",
    "            heap[0] = lis[i]\n",
    "            sift(heap, 0, k-1)\n",
    "    for i in range(k-1, -1, -1):\n",
    "        heap[i], heap[0] = heap[0], heap[i]\n",
    "        sift(heap, 0, i-1)\n",
    "    return heap\n",
    "\n",
    "import random\n",
    "lis = list(range(1000))\n",
    "random.shuffle(lis)\n",
    "topk(lis, 10)"
   ]
  },
  {
   "cell_type": "code",
   "execution_count": 131,
   "metadata": {},
   "outputs": [
    {
     "data": {
      "text/plain": [
       "345789"
      ]
     },
     "execution_count": 131,
     "metadata": {},
     "output_type": "execute_result"
    }
   ],
   "source": [
    "# 字典序算法\n",
    "# https://blog.csdn.net/zSY_snake/article/details/82991528?utm_medium=distribute.pc_relevant.none-task-blog-2~default~baidujs_baidulandingword~default-1-82991528-blog-86637183.pc_relevant_multi_platform_whitelistv1&spm=1001.2101.3001.4242.2&utm_relevant_index=4\n",
    "\n",
    "# 获得最近换位数的三个步骤：\n",
    "# 1.从后向前查看逆序区域，找到逆序区域的前一位，也就是数字置换的边界\n",
    "# 2.把逆序区域的前一位和逆序区域中刚刚大于它的数字交换位置\n",
    "# 3.把原来的逆序区域转为顺序\n",
    "\n",
    "# 首先自右向左选相邻两数比较，若左边数小于右边数取左边数数记为 x　，\n",
    "# 然后自末位向左至 x 位选取大于 x 的数中最小值记为 m ，将 x 与 m 位置互换;\n",
    "# 将 x 位右边数字升序排序．即得到当前数字字符串按字典序的下一位数字\n",
    "\n",
    "def doc_sort(num):\n",
    "    lis = [int(i) for i in list(str(num))]\n",
    "    n = len(lis)\n",
    "    if n <= 1:\n",
    "        return num\n",
    "    left = None\n",
    "    right = n-1\n",
    "    for i in range(n-1, 0, -1):\n",
    "        if lis[i-1] < lis[i]:\n",
    "            left = i-1\n",
    "            right = lis.index(min(lis[(left+1):]))\n",
    "            lis[left], lis[right] = lis[right], lis[left]\n",
    "            l_lis = lis[:left+1]\n",
    "            r_lis = sorted(lis[left+1:])\n",
    "            res = l_lis + r_lis\n",
    "            break\n",
    "    if not left:\n",
    "        res = sorted(lis)\n",
    "    return int(\"\".join([str(i) for i in res]))\n",
    "\n",
    "num = 987543\n",
    "doc_sort(num)"
   ]
  },
  {
   "cell_type": "code",
   "execution_count": 178,
   "metadata": {},
   "outputs": [
    {
     "data": {
      "text/plain": [
       "12"
      ]
     },
     "execution_count": 178,
     "metadata": {},
     "output_type": "execute_result"
    }
   ],
   "source": [
    "def get_count(prefix, n):\n",
    "    \"\"\"\n",
    "    计算以数字i开头且不超过最大数字n的数字个数\n",
    "    \"\"\"\n",
    "    count = 0\n",
    "    a = prefix  # 计数区间起点（树的每一层的开头）\n",
    "    b = prefix + 1  # 计数区间终点（树的每一满层的末尾，不包含在层内）\n",
    "    while a <= n:\n",
    "        count += min(n+1, b) - a  # n+1如果在[a,b)区间内，则取[a, n+1)\n",
    "        a *= 10\n",
    "        b *= 10\n",
    "    return count\n",
    "\n",
    "def get_k(n, k):\n",
    "    \"\"\"\n",
    "    获取n范围内第k个字典序的数字\n",
    "    \"\"\"\n",
    "    prefix = 1\n",
    "    p = 1  # 遍历所有位置直到p=k\n",
    "    if p == k:\n",
    "        return prefix\n",
    "    while p < k:\n",
    "        count = get_count(prefix, n)  # 如果prefix没有子节点，那么就是它本身，即1个\n",
    "        if p+count > k:  # 如果超过，那么向下层走\n",
    "            p += 1\n",
    "            prefix *= 10\n",
    "        elif p+count <= k:  # 如果不足，那么横着向右走\n",
    "            p += count\n",
    "            prefix += 1\n",
    "    return prefix\n",
    "\n",
    "\n",
    "get_k(20, 4)"
   ]
  },
  {
   "cell_type": "code",
   "execution_count": null,
   "metadata": {},
   "outputs": [],
   "source": []
  }
 ],
 "metadata": {
  "kernelspec": {
   "display_name": "Python 3.6.13 ('mydoc')",
   "language": "python",
   "name": "python3"
  },
  "language_info": {
   "codemirror_mode": {
    "name": "ipython",
    "version": 3
   },
   "file_extension": ".py",
   "mimetype": "text/x-python",
   "name": "python",
   "nbconvert_exporter": "python",
   "pygments_lexer": "ipython3",
   "version": "3.6.13"
  },
  "orig_nbformat": 4,
  "vscode": {
   "interpreter": {
    "hash": "d3fad2e2418b8f564660e1b12c657452d79d30116530930195948f0a1996a751"
   }
  }
 },
 "nbformat": 4,
 "nbformat_minor": 2
}
