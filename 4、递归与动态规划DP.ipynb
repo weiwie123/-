{
 "cells": [
  {
   "cell_type": "markdown",
   "metadata": {},
   "source": [
    "# 递归\n",
    "- https://blog.csdn.net/liuergo/article/details/104345089\n",
    "- 1、明确递归函数的输入输出功能，将递归函数看作一个黑盒。\n",
    "- 2、明确递归结束的条件\n",
    "- 3、缩小递归范围，获得等价条件（要么获得递推式，要么寻找缩小递归范围的办法，使递归不断趋近递归结束条件）"
   ]
  },
  {
   "cell_type": "code",
   "execution_count": 3,
   "metadata": {},
   "outputs": [
    {
     "data": {
      "text/plain": [
       "24"
      ]
     },
     "execution_count": 3,
     "metadata": {},
     "output_type": "execute_result"
    }
   ],
   "source": [
    "# 例题1:计算阶乘\n",
    "def jiecheng(n):\n",
    "    if n <= 2:\n",
    "        return n\n",
    "    else:\n",
    "        return n * jiecheng(n-1)\n",
    "\n",
    "def jiecheng_dp(n):\n",
    "    r = [1]\n",
    "    for i in range(1, n+1):\n",
    "        r.append(r[i-1]*i)\n",
    "    return r[n]\n",
    "\n",
    "jiecheng_dp(4)\n",
    "jiecheng(4)"
   ]
  },
  {
   "cell_type": "markdown",
   "metadata": {},
   "source": [
    "# 动态规划\n",
    "- 1、探索状态转移方程（递推公式）\n",
    "- 2、base case基础问题解决"
   ]
  },
  {
   "cell_type": "code",
   "execution_count": null,
   "metadata": {},
   "outputs": [],
   "source": [
    "# 普通的递归方式解决问题，会重复计算子问题，导致计算时间过长\n",
    "def febnacci(n):\n",
    "    if n == 1 or n == 2:\n",
    "        return 1\n",
    "    else:\n",
    "        return febnacci(n-1) + febnacci(n-2)\n",
    "\n",
    "# 动态规划就是解决：递归+重复子问题"
   ]
  },
  {
   "cell_type": "markdown",
   "metadata": {},
   "source": [
    "## 1、钢条切割问题"
   ]
  },
  {
   "cell_type": "code",
   "execution_count": 1,
   "metadata": {},
   "outputs": [],
   "source": [
    "# 例题1:如何切割一个钢条，使其总收益最大（不同的长度有不同的价格，越长价格越高）\n",
    "\n",
    "# 最优子结构：问题的最优解由相关子问题的最优解组合而成，这些子问题可以独立求解。\n",
    "# 找出递推式！\n",
    "\n",
    "# 钢条切割问题，递推式可以简化为左边不切右边切。"
   ]
  },
  {
   "cell_type": "code",
   "execution_count": 4,
   "metadata": {},
   "outputs": [
    {
     "data": {
      "text/plain": [
       "25"
      ]
     },
     "execution_count": 4,
     "metadata": {},
     "output_type": "execute_result"
    }
   ],
   "source": [
    "# 解决方法1:自顶向下（rn，rn-1……）递归方法\n",
    "price = [0,1,5,8,9,10,17,17,20,24,30]\n",
    "def cut_rod_recurision_1(p, n):\n",
    "    if n == 0:\n",
    "        return 0\n",
    "    else:\n",
    "        res = p[n]\n",
    "        for i in range(1, n):\n",
    "            res = max(res, cut_rod_recurision_1(p, i)+cut_rod_recurision_1(p, n-i))\n",
    "        return res\n",
    "\n",
    "def cut_rod_recurision_2(p, n):\n",
    "    if n == 0:\n",
    "        return 0\n",
    "    else:\n",
    "        res = 0\n",
    "        for i in range(1, n+1):\n",
    "            res = max(res, p[i]+cut_rod_recurision_2(p, n-i))\n",
    "        return res\n",
    "\n",
    "cut_rod_recurision_2(price, 9)"
   ]
  },
  {
   "cell_type": "code",
   "execution_count": 6,
   "metadata": {},
   "outputs": [
    {
     "data": {
      "text/plain": [
       "25"
      ]
     },
     "execution_count": 6,
     "metadata": {},
     "output_type": "execute_result"
    }
   ],
   "source": [
    "# 解决方法2:自底向上，动态规划方式解决（从r0开始计算并保存结果）\n",
    "def cut_rod_dp(p, n):\n",
    "    r = [0]\n",
    "    for i in range(1, n+1):  #i是从1到n遍历长度\n",
    "        res = 0\n",
    "        for j in range(1, i+1):  #j是切一刀后左边的长度\n",
    "            res = max(res, p[j]+r[i-j]) #左边不切右边切（i-j一定是小于i的）\n",
    "        r.append(res)\n",
    "    return r[n]\n",
    "\n",
    "cut_rod_dp(price, 9)"
   ]
  },
  {
   "cell_type": "code",
   "execution_count": 12,
   "metadata": {},
   "outputs": [
    {
     "data": {
      "text/plain": [
       "(25, [3, 6])"
      ]
     },
     "execution_count": 12,
     "metadata": {},
     "output_type": "execute_result"
    }
   ],
   "source": [
    "# 如何得到最优值，并且同时得到切割方案\n",
    "def cut_rod_extend(p, n):\n",
    "    r = [0]\n",
    "    s = [0]\n",
    "    for i in range(1, n+1):\n",
    "        res_r = 0\n",
    "        res_s = 0\n",
    "        for j in range(1, i+1):\n",
    "            if p[j]+r[i-j] > res_r:\n",
    "                res_r = p[j]+r[i-j]\n",
    "                res_s = j  #如果切后更优，就保存左边的长度\n",
    "        r.append(res_r)\n",
    "        s.append(res_s)  #保存的每一种长度最优解下左边的长度\n",
    "    return r[n], s\n",
    "\n",
    "def cut_rod_solution(p, n):\n",
    "    r, s = cut_rod_extend(p, n)\n",
    "    ans = []\n",
    "    while n > 0:\n",
    "        ans.append(s[n])\n",
    "        n -= s[n]\n",
    "    return r, ans\n",
    "\n",
    "cut_rod_solution(price, 9)"
   ]
  },
  {
   "cell_type": "code",
   "execution_count": null,
   "metadata": {},
   "outputs": [],
   "source": [
    "# 什么问题可以用动态规划\n",
    "# 1、最优子问题\n",
    "# 原问题的最优解中设计多少个子问题\n",
    "# 在确定最优解使用哪些子问题时，需要考虑多少选择\n",
    "# （贪心算法相当于动态规划的一个特例）\n",
    "# 2、 重叠子问题"
   ]
  },
  {
   "cell_type": "markdown",
   "metadata": {},
   "source": [
    "## 2、字符串相关问题\n",
    "解决两个字符串的动态规划问题，一般都是用两个指针 i,j 分别指向两个字符串的最后，然后一步步往前走，缩小问题的规模。"
   ]
  },
  {
   "cell_type": "code",
   "execution_count": 7,
   "metadata": {},
   "outputs": [
    {
     "data": {
      "text/plain": [
       "'BDAB'"
      ]
     },
     "execution_count": 7,
     "metadata": {},
     "output_type": "execute_result"
    }
   ],
   "source": [
    "# 例题2:最长公共子序列\n",
    "# （一个序列的子序列是在该序列删去若干元素后得到的序列，顺序不能变，不要求连续）\n",
    "# 最长公共子序列LCS问题：给定两个序列X和Y，求X和Y长度最大的公共子序列\n",
    "# 应用场景：字符串相似度比对、基因工程比对\n",
    "\n",
    "def lcs_length(x, y):\n",
    "    m = len(x)\n",
    "    n = len(y)\n",
    "    c = [[0 for _ in range(n+1)] for _ in range(m+1)]  # c存储当前的LCS的长度，+1是多加一个空串\n",
    "    for i in range(1, m+1):\n",
    "        for j in range(1, n+1):\n",
    "            if x[i-1] == y[j-1]:  # 注意字符串的下标是从0开始的\n",
    "                c[i][j] = c[i-1][j-1] + 1\n",
    "            else:\n",
    "                c[i][j] = max(c[i-1][j], c[i][j-1])\n",
    "    for _ in c:\n",
    "        print(_)\n",
    "    return c[m][n]\n",
    "\n",
    "def lcs(x, y):\n",
    "    m = len(x)\n",
    "    n = len(y)\n",
    "    c = [[0 for _ in range(n+1)] for _ in range(m+1)]\n",
    "    b = [[0 for _ in range(n+1)] for _ in range(m+1)]  # 1是↖️，2是⬆️，3是⬅️，0是第一行第一列无方向\n",
    "    for i in range(1, m+1):\n",
    "        for j in range(1, n+1):\n",
    "            if x[i-1] == y[j-1]:  # 注意字符串的下标是从0开始的\n",
    "                c[i][j] = c[i-1][j-1] + 1\n",
    "                b[i][j] = 1\n",
    "            elif c[i-1][j] > c[i][j-1]:\n",
    "                c[i][j] = c[i-1][j]\n",
    "                b[i][j] = 2\n",
    "            else:\n",
    "                c[i][j] = c[i][j-1]\n",
    "                b[i][j] = 3\n",
    "    return c[m][n], b\n",
    "\n",
    "def lcs_trackback(x, y):\n",
    "    c, b = lcs(x, y)\n",
    "    i = len(x)\n",
    "    j = len(y)\n",
    "    res = []\n",
    "    while i > 0 and j > 0:\n",
    "        if b[i][j] == 1:  #来自左上，匹配\n",
    "            res.append(x[i-1])\n",
    "            i -= 1\n",
    "            j -= 1\n",
    "        elif b[i][j] == 2:  #来自上方，不匹配\n",
    "            i -= 1\n",
    "        else:  # 来自左方，也不匹配\n",
    "            j -= 1\n",
    "    return \"\".join(reversed(res))\n",
    "\n",
    "# lcs_length(\"ABCBDAB\", \"BDCABA\")\n",
    "lcs_trackback(\"ABCBDAB\", \"BDCABA\")"
   ]
  },
  {
   "cell_type": "code",
   "execution_count": 19,
   "metadata": {},
   "outputs": [
    {
     "name": "stdout",
     "output_type": "stream",
     "text": [
      "[0, 1, 2, 3, 4, 5]\n",
      "[1, 1, 2, 3, 4, 5]\n",
      "[2, 1, 2, 3, 4, 5]\n",
      "[3, 2, 2, 3, 4, 5]\n"
     ]
    },
    {
     "data": {
      "text/plain": [
       "5"
      ]
     },
     "execution_count": 19,
     "metadata": {},
     "output_type": "execute_result"
    }
   ],
   "source": [
    "# 例题3:最小编辑距离\n",
    "# https://zhuanlan.zhihu.com/p/80682302\n",
    "# 用最少的步骤完成字符串的修改\n",
    "\n",
    "def solution_recurision(s1, s2):\n",
    "    \"\"\"递归方法\"\"\"\n",
    "    def bianji(i, j):\n",
    "        if i == -1: return j + 1\n",
    "        if j == -1: return i + 1\n",
    "        if s1[i] == s2[j]:\n",
    "            return bianji(i-1, j-1)\n",
    "        else:\n",
    "            return min(\n",
    "                bianji(i-1, j)+1,  #插入\n",
    "                bianji(i, j-1)+1,  #删除\n",
    "                bianji(i-1, j-1)+1  #替换\n",
    "            )\n",
    "    return bianji(len(s1)-1, len(s2)-1)\n",
    "\n",
    "def solution_dp(s1, s2):\n",
    "    \"\"\"动态规划方法\"\"\"\n",
    "    m = len(s1)\n",
    "    n = len(s2)\n",
    "    table = [[0 for j in range(n+1)] for i in range(m+1)]\n",
    "    choice = [[0 for j in range(n+1)] for i in range(m+1)]\n",
    "\n",
    "    # 先考虑特殊情况，即空字符串与非空字符串的最小编辑距离\n",
    "    for i in range(m+1):\n",
    "        table[i][0] = i;\n",
    "    for j in range(n+1):\n",
    "        table[0][j] = j;\n",
    "\n",
    "    # 填补table中的其他地方\n",
    "    for i in range(1, m+1):\n",
    "        for j in range(1, n+1):\n",
    "            if s1[i-1] == s2[j-1]:\n",
    "                table[i][j] = table[i-1][j-1]\n",
    "            else:\n",
    "                table[i][j] = min(\n",
    "                    table[i-1][j]+1,\n",
    "                    table[i][j-1]+1,\n",
    "                    table[i-1][j-1]+1\n",
    "                )\n",
    "    for _ in table:\n",
    "        print(_)\n",
    "    return table[m][n]\n",
    "\n",
    "# solution_recurision(\"rad\", \"apple\")\n",
    "solution_dp(\"rad\", \"apple\")"
   ]
  },
  {
   "cell_type": "markdown",
   "metadata": {},
   "source": [
    "## 3、股票问题"
   ]
  },
  {
   "cell_type": "code",
   "execution_count": 35,
   "metadata": {},
   "outputs": [
    {
     "name": "stdout",
     "output_type": "stream",
     "text": [
      "[[0, -7], [0, -1], [4, -1], [4, -1], [5, -1], [5, -1]]\n"
     ]
    },
    {
     "data": {
      "text/plain": [
       "5"
      ]
     },
     "execution_count": 35,
     "metadata": {},
     "output_type": "execute_result"
    }
   ],
   "source": [
    "# 例题：买卖股票的最佳时机\n",
    "# https://leetcode.cn/problems/best-time-to-buy-and-sell-stock/solution/yi-ge-fang-fa-tuan-mie-6-dao-gu-piao-wen-ti-by-l-3/\n",
    "\n",
    "def baoli(s):\n",
    "    \"\"\"暴力解法，力扣上说超出时间限制\"\"\"\n",
    "    res = 0\n",
    "    for i in range(len(s)):\n",
    "        for j in range(i+1, len(s)):\n",
    "            tmp = s[j]-s[i]\n",
    "            if tmp >= 0 and tmp > res:\n",
    "                res = tmp\n",
    "    return res\n",
    "            \n",
    "# li = [7,1,5,3,6,4]\n",
    "# baoli(li)\n",
    "\n",
    "# 动态规划方法\n",
    "# dp[i][k][0]表示当天i在k次交易的限制下没有持有股票的最后状态\n",
    "# dp[i][k][]表示当天i在k次交易的限制下有持有股票的最后状态\n",
    "\n",
    "# base case：\n",
    "# dp[-1][k][0] = dp[i][0][0] = 0\n",
    "# dp[-1][k][1] = dp[i][0][1] = -infinity\n",
    "# 状态转移方程：\n",
    "# dp[i][k][0] = max(dp[i-1][k][0], dp[i-1][k][1] + prices[i])\n",
    "# dp[i][k][1] = max(dp[i-1][k][1], dp[i-1][k-1][0] - prices[i])\n",
    "\n",
    "def ticket_dp(s, k):\n",
    "    n = len(s)\n",
    "    dp = [[0 for m in range(2)]for i in range(n)]\n",
    "\n",
    "    for i in range(0, n):\n",
    "        if i-1 == -1:\n",
    "            dp[i][0] = 0\n",
    "            dp[i][1] = -s[i]\n",
    "            continue\n",
    "        dp[i][0] = max(dp[i-1][0], dp[i-1][1]+s[i])\n",
    "        dp[i][1] = max(dp[i-1][1], -s[i])\n",
    "    print(dp)\n",
    "    return dp[n-1][0]\n",
    "\n",
    "s = [7,1,5,3,6,4]\n",
    "k = 1\n",
    "ticket_dp(s, k)"
   ]
  },
  {
   "cell_type": "markdown",
   "metadata": {},
   "source": [
    "## 4、背包问题\n",
    "https://blog.csdn.net/stack_queue/article/details/53544109"
   ]
  },
  {
   "cell_type": "markdown",
   "metadata": {},
   "source": [
    "### 第一讲 01背包问题\n",
    "这是最基本的背包问题，每个物品最多只能放一次。"
   ]
  },
  {
   "cell_type": "code",
   "execution_count": null,
   "metadata": {},
   "outputs": [],
   "source": []
  },
  {
   "cell_type": "markdown",
   "metadata": {},
   "source": [
    "### 第二讲 完全背包问题\n",
    "第二个基本的背包问题模型，每种物品可以放无限多次。"
   ]
  },
  {
   "cell_type": "markdown",
   "metadata": {},
   "source": [
    "### 第三讲 多重背包问题\n",
    "每种物品有一个固定的次数上限。"
   ]
  },
  {
   "cell_type": "markdown",
   "metadata": {},
   "source": [
    "### 第四讲 混合三种背包问题\n",
    "将前面三种简单的问题叠加成较复杂的问题。"
   ]
  },
  {
   "cell_type": "markdown",
   "metadata": {},
   "source": [
    "### 第五讲 二维费用的背包问题\n",
    "一个简单的常见扩展。"
   ]
  },
  {
   "cell_type": "markdown",
   "metadata": {},
   "source": [
    "### 第六讲 分组的背包问题\n",
    "一种题目类型，也是一个有用的模型。后两节的基础。"
   ]
  },
  {
   "cell_type": "markdown",
   "metadata": {},
   "source": [
    "### 第七讲 有依赖的背包问题\n",
    "另一种给物品的选取加上限制的方法。"
   ]
  },
  {
   "cell_type": "markdown",
   "metadata": {},
   "source": [
    "### 第八讲 泛化物品\n",
    "我自己关于背包问题的思考成果，有一点抽象。"
   ]
  },
  {
   "cell_type": "code",
   "execution_count": null,
   "metadata": {},
   "outputs": [],
   "source": [
    "\n"
   ]
  }
 ],
 "metadata": {
  "kernelspec": {
   "display_name": "Python 3.6.13 ('mydoc')",
   "language": "python",
   "name": "python3"
  },
  "language_info": {
   "codemirror_mode": {
    "name": "ipython",
    "version": 3
   },
   "file_extension": ".py",
   "mimetype": "text/x-python",
   "name": "python",
   "nbconvert_exporter": "python",
   "pygments_lexer": "ipython3",
   "version": "3.6.13"
  },
  "orig_nbformat": 4,
  "vscode": {
   "interpreter": {
    "hash": "d3fad2e2418b8f564660e1b12c657452d79d30116530930195948f0a1996a751"
   }
  }
 },
 "nbformat": 4,
 "nbformat_minor": 2
}
