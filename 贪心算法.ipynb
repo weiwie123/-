{
 "cells": [
  {
   "cell_type": "markdown",
   "metadata": {},
   "source": [
    "# 贪心算法"
   ]
  },
  {
   "cell_type": "code",
   "execution_count": 3,
   "metadata": {},
   "outputs": [
    {
     "data": {
      "text/plain": [
       "[3, 1, 1, 1, 1]"
      ]
     },
     "execution_count": 3,
     "metadata": {},
     "output_type": "execute_result"
    }
   ],
   "source": [
    "# 求解问题时，总是做出在当前看来是最好的选择。但不一定是整体最优。\n",
    "\n",
    "# 例题1:找零问题\n",
    "def change_money(n):\n",
    "    t = [100, 50, 20, 5, 1]\n",
    "    m = [0, 0, 0, 0, 0]\n",
    "    for i, money in enumerate(t):\n",
    "        m[i] = n // money\n",
    "        n = n % money\n",
    "    return m\n",
    "\n",
    "change_money(376)"
   ]
  },
  {
   "cell_type": "code",
   "execution_count": 8,
   "metadata": {},
   "outputs": [
    {
     "data": {
      "text/plain": [
       "(240.0, [1, 1, 0.6666666666666666])"
      ]
     },
     "execution_count": 8,
     "metadata": {},
     "output_type": "execute_result"
    }
   ],
   "source": [
    "# 例题2:背包问题\n",
    "# 某商店有n哥商品，第i哥商品价值vi元，重wi千克，背包最多装w千克。\n",
    "# 0-1背包：对于一个商品要么拿走它要么留下它，不能只拿走一部分\n",
    "# 分数背包：对于一个商品可以拿走其中一部分。\n",
    "\n",
    "goods = [(60, 10), (100, 20), (120, 30)]  #分别是价格和重量，3种商品\n",
    "goods.sort(key=lambda x: x[0]/x[1], reverse=True)\n",
    "\n",
    "def fenshu_backpack(goods, w):\n",
    "    m = [0 for _ in range(len(goods))]\n",
    "    total = 0\n",
    "    for i, (price, weight) in enumerate(goods):\n",
    "        if w >= weight:\n",
    "            m[i] = 1 \n",
    "            w -= weight\n",
    "            total += price\n",
    "        else:\n",
    "            m[i] = w/weight\n",
    "            w = 0\n",
    "            total += m[i]*price\n",
    "            break\n",
    "    return total, m\n",
    "        \n",
    "fenshu_backpack(goods, 50)"
   ]
  },
  {
   "cell_type": "code",
   "execution_count": 12,
   "metadata": {},
   "outputs": [
    {
     "data": {
      "text/plain": [
       "'94716321286128'"
      ]
     },
     "execution_count": 12,
     "metadata": {},
     "output_type": "execute_result"
    }
   ],
   "source": [
    "# 例题3:数字拼接\n",
    "# 有n个非负整数，将其按照字符串拼接的方式拼接为一个整数，如何拼接可以使得得到整数最大。\n",
    "\n",
    "from functools import cmp_to_key\n",
    "\n",
    "\n",
    "li = [32, 94, 128, 1286, 6, 71]\n",
    "def xy_cmp(x, y):\n",
    "    if x+y < y+x:\n",
    "        return 1\n",
    "    elif x+y > y+x:\n",
    "        return -1\n",
    "    else:\n",
    "        return 0\n",
    "\n",
    "def number_join(li):\n",
    "    li = [str(i) for i in li]\n",
    "    li.sort(key=cmp_to_key(xy_cmp))\n",
    "    return \"\".join(li)\n",
    "\n",
    "number_join(li)"
   ]
  },
  {
   "cell_type": "code",
   "execution_count": 13,
   "metadata": {},
   "outputs": [
    {
     "data": {
      "text/plain": [
       "[(1, 4), (5, 7), (8, 11), (12, 16)]"
      ]
     },
     "execution_count": 13,
     "metadata": {},
     "output_type": "execute_result"
    }
   ],
   "source": [
    "# 例题4:活动选择\n",
    "# 假设有n个活动，占用同一片场地，场地在某时刻只能供一个活动使用\n",
    "# 每个活动都有一个开始时间和结束时间，问安排哪些活动能使该场地举办的活动都个数最多。\n",
    "\n",
    "# 贪心结论：最先结束的活动一定是最优解的一部分\n",
    "activities = [(1,4),(3,5),(0,6),(5,7),(3,9),(5,9),(6,10),(8,11),(8,12),(2,14),(12,16)]\n",
    "# 保证活动是按照结束时间排好序的\n",
    "activities.sort(key=lambda x:x[1])\n",
    "\n",
    "def activity_selection(a):\n",
    "    res = [a[0]]\n",
    "    for i in range(1, len(a)):\n",
    "        if a[i][0] >= res[-1][1]:  # 此时不冲突\n",
    "            res.append(a[i])\n",
    "        else:\n",
    "            continue\n",
    "    return res\n",
    "\n",
    "activity_selection(activities)"
   ]
  },
  {
   "cell_type": "code",
   "execution_count": null,
   "metadata": {},
   "outputs": [],
   "source": [
    "# 总结\n",
    "# 首先都是最优化问题，但不是所有最优化问题都可以用贪心做（比如0-1背包）"
   ]
  }
 ],
 "metadata": {
  "kernelspec": {
   "display_name": "Python 3.6.13 ('mydoc')",
   "language": "python",
   "name": "python3"
  },
  "language_info": {
   "codemirror_mode": {
    "name": "ipython",
    "version": 3
   },
   "file_extension": ".py",
   "mimetype": "text/x-python",
   "name": "python",
   "nbconvert_exporter": "python",
   "pygments_lexer": "ipython3",
   "version": "3.6.13"
  },
  "orig_nbformat": 4,
  "vscode": {
   "interpreter": {
    "hash": "d3fad2e2418b8f564660e1b12c657452d79d30116530930195948f0a1996a751"
   }
  }
 },
 "nbformat": 4,
 "nbformat_minor": 2
}
